{
  "nbformat": 4,
  "nbformat_minor": 0,
  "metadata": {
    "colab": {
      "name": "ML4VA.ipynb",
      "provenance": [],
      "collapsed_sections": []
    },
    "kernelspec": {
      "display_name": "Python 3",
      "name": "python3"
    }
  },
  "cells": [
    {
      "cell_type": "code",
      "metadata": {
        "id": "Rr9k9VUHKS_l"
      },
      "source": [
        "import numpy as np\n",
        "import tensorflow as tf\n",
        "from tensorflow import keras\n",
        "import pandas as pd\n",
        "import seaborn as sns\n",
        "from pylab import rcParams\n",
        "import matplotlib.pyplot as plt\n",
        "from matplotlib import rc\n",
        "from sklearn.model_selection import train_test_split\n",
        "from pandas.plotting import register_matplotlib_converters\n",
        "import os \n",
        "import datetime\n",
        "import IPython\n",
        "import IPython.display\n",
        "import matplotlib as mpl\n",
        "import matplotlib.pyplot as plt\n",
        "from sklearn.pipeline import Pipeline\n",
        "from sklearn.compose import ColumnTransformer\n",
        "from sklearn.preprocessing import OrdinalEncoder, OneHotEncoder, LabelEncoder, StandardScaler\n",
        "from sklearn.impute import SimpleImputer\n",
        "from sklearn.svm import SVC\n",
        "from sklearn.metrics import accuracy_score, precision_score, recall_score, f1_score, confusion_matrix\n",
        "from sklearn.model_selection import StratifiedShuffleSplit\n",
        "from sklearn.decomposition import PCA\n",
        "from sklearn.linear_model import LogisticRegression\n",
        "\n",
        "np.random.seed(0)"
      ],
      "execution_count": null,
      "outputs": []
    },
    {
      "cell_type": "code",
      "metadata": {
        "id": "wAF2fLxYMIQi",
        "outputId": "7204aefe-ae7e-4cfc-cc31-214af7738dd1",
        "colab": {
          "base_uri": "https://localhost:8080/"
        }
      },
      "source": [
        "from google.colab import drive\n",
        "drive.mount('/content/drive')\n",
        "filepath = \"drive/My Drive/Documents/Education/University - 1 - UVA/Coursework - 6 - 2020 Fall/CS 4774 Machine Learning/ML4VA Project/ml4va\""
      ],
      "execution_count": null,
      "outputs": [
        {
          "output_type": "stream",
          "text": [
            "Drive already mounted at /content/drive; to attempt to forcibly remount, call drive.mount(\"/content/drive\", force_remount=True).\n"
          ],
          "name": "stdout"
        }
      ]
    },
    {
      "cell_type": "code",
      "metadata": {
        "id": "ww4E1Uq0Kbm4",
        "outputId": "60fbf8a8-22fe-4e28-9f34-9166d7dcb713",
        "colab": {
          "base_uri": "https://localhost:8080/",
          "height": 568
        }
      },
      "source": [
        "# Import data\n",
        "df0 = pd.read_csv(filepath + \"/Virginia_Crashes.csv\")\n",
        "df0.head()"
      ],
      "execution_count": null,
      "outputs": [
        {
          "output_type": "execute_result",
          "data": {
            "text/html": [
              "<div>\n",
              "<style scoped>\n",
              "    .dataframe tbody tr th:only-of-type {\n",
              "        vertical-align: middle;\n",
              "    }\n",
              "\n",
              "    .dataframe tbody tr th {\n",
              "        vertical-align: top;\n",
              "    }\n",
              "\n",
              "    .dataframe thead th {\n",
              "        text-align: right;\n",
              "    }\n",
              "</style>\n",
              "<table border=\"1\" class=\"dataframe\">\n",
              "  <thead>\n",
              "    <tr style=\"text-align: right;\">\n",
              "      <th></th>\n",
              "      <th>X</th>\n",
              "      <th>Y</th>\n",
              "      <th>OBJECTID</th>\n",
              "      <th>Document_Nbr</th>\n",
              "      <th>Crash_Dt</th>\n",
              "      <th>Time_Slicing</th>\n",
              "      <th>Weather_Condition</th>\n",
              "      <th>Rte_Nm</th>\n",
              "      <th>Rns_Mp</th>\n",
              "      <th>First_Harmful_Event_of_Entire_C</th>\n",
              "      <th>Speed_Notspeed</th>\n",
              "      <th>Belted_Unbelted</th>\n",
              "      <th>Alcohol_Notalcohol</th>\n",
              "      <th>Rd_Type</th>\n",
              "      <th>Collision_Type</th>\n",
              "      <th>Vehicle_Body_Type_Cd</th>\n",
              "      <th>Driver_Action_Type_Cd</th>\n",
              "      <th>Crash_Severity</th>\n",
              "      <th>K_People</th>\n",
              "      <th>A_People</th>\n",
              "      <th>B_People</th>\n",
              "      <th>C_People</th>\n",
              "      <th>LATITUDE</th>\n",
              "      <th>LONGITUDE</th>\n",
              "      <th>VSP</th>\n",
              "      <th>SYSTEM</th>\n",
              "      <th>OWNERSHIP</th>\n",
              "      <th>CRASH_YEAR</th>\n",
              "      <th>Local_Case_Cd</th>\n",
              "      <th>FAC</th>\n",
              "      <th>FUN</th>\n",
              "      <th>Light_Condition</th>\n",
              "      <th>DIAGRAM</th>\n",
              "      <th>VDOT_District</th>\n",
              "      <th>Node_Info</th>\n",
              "      <th>Ownership_Used</th>\n",
              "      <th>Physical_Juris</th>\n",
              "      <th>Plan_District</th>\n",
              "      <th>Carspeedlimit</th>\n",
              "      <th>Crash_Military_Tm</th>\n",
              "      <th>Crash_Event_Type_Dsc</th>\n",
              "      <th>Rte_Category_Cd</th>\n",
              "      <th>Roadway_Surface_Cond</th>\n",
              "      <th>Vehiclenumber</th>\n",
              "      <th>Driverage</th>\n",
              "      <th>Drivergen</th>\n",
              "      <th>Driverinjurytype</th>\n",
              "      <th>Passage</th>\n",
              "      <th>Pedage</th>\n",
              "      <th>Pedgen</th>\n",
              "      <th>Pedinjurytype</th>\n",
              "      <th>Passgen</th>\n",
              "      <th>Passinjurytype</th>\n",
              "    </tr>\n",
              "  </thead>\n",
              "  <tbody>\n",
              "    <tr>\n",
              "      <th>0</th>\n",
              "      <td>-76.699480</td>\n",
              "      <td>36.827038</td>\n",
              "      <td>1</td>\n",
              "      <td>130015005</td>\n",
              "      <td>2013/01/02 00:00:00+00</td>\n",
              "      <td>6PM TO 9PM</td>\n",
              "      <td>1. No Adverse Condition (Clear/Cloudy)</td>\n",
              "      <td>R-VA046SC00606EB</td>\n",
              "      <td>3.840718</td>\n",
              "      <td>14. Ditch</td>\n",
              "      <td>Not_SPEED</td>\n",
              "      <td>BELTED</td>\n",
              "      <td>Not_ALCOHOL</td>\n",
              "      <td>RD-UNKNOWN</td>\n",
              "      <td>9. Fixed Object - Off Road</td>\n",
              "      <td>1. Passenger car</td>\n",
              "      <td>40. Fail to Maintain Proper Control</td>\n",
              "      <td>B.Visible Injury</td>\n",
              "      <td>0</td>\n",
              "      <td>0</td>\n",
              "      <td>1</td>\n",
              "      <td>0</td>\n",
              "      <td>36.827030</td>\n",
              "      <td>-76.699478</td>\n",
              "      <td>5</td>\n",
              "      <td>3</td>\n",
              "      <td>3</td>\n",
              "      <td>2013</td>\n",
              "      <td>201202934</td>\n",
              "      <td>0.Two-way, non-divided</td>\n",
              "      <td>6.Rural Local</td>\n",
              "      <td>4. Darkness - Road Lighted</td>\n",
              "      <td>http://rns/APP/Images/CrashDiagramProxy.aspx?d...</td>\n",
              "      <td>5.Hampton Roads</td>\n",
              "      <td>393039.Deer Path Trl; SC-606E (Isle of Wight C...</td>\n",
              "      <td>VDOT_SEC</td>\n",
              "      <td>46.Isle of Wight</td>\n",
              "      <td>23.Hampton Roads</td>\n",
              "      <td>NaN</td>\n",
              "      <td>2007</td>\n",
              "      <td>14. Ditch</td>\n",
              "      <td>SEC</td>\n",
              "      <td>1. Dry</td>\n",
              "      <td>1</td>\n",
              "      <td>18</td>\n",
              "      <td>Female</td>\n",
              "      <td>B</td>\n",
              "      <td>NaN</td>\n",
              "      <td>NaN</td>\n",
              "      <td>NaN</td>\n",
              "      <td>NaN</td>\n",
              "      <td>NaN</td>\n",
              "      <td>NaN</td>\n",
              "    </tr>\n",
              "    <tr>\n",
              "      <th>1</th>\n",
              "      <td>-77.663366</td>\n",
              "      <td>37.609240</td>\n",
              "      <td>2</td>\n",
              "      <td>130015012</td>\n",
              "      <td>2013/01/02 00:00:00+00</td>\n",
              "      <td>0AM TO 3AM</td>\n",
              "      <td>1. No Adverse Condition (Clear/Cloudy)</td>\n",
              "      <td>R-VA   SR00288NB</td>\n",
              "      <td>28.361159</td>\n",
              "      <td>23. Animal</td>\n",
              "      <td>Not_SPEED</td>\n",
              "      <td>BELTED</td>\n",
              "      <td>Not_ALCOHOL</td>\n",
              "      <td>NOT-RD</td>\n",
              "      <td>10. Deer</td>\n",
              "      <td>22. Truck - Sport Utility Vehicle (SUV)</td>\n",
              "      <td>1. No Improper Action</td>\n",
              "      <td>C.Nonvisible Injury</td>\n",
              "      <td>0</td>\n",
              "      <td>0</td>\n",
              "      <td>0</td>\n",
              "      <td>1</td>\n",
              "      <td>37.609232</td>\n",
              "      <td>-77.663364</td>\n",
              "      <td>1</td>\n",
              "      <td>2</td>\n",
              "      <td>2</td>\n",
              "      <td>2013</td>\n",
              "      <td>DIV113000009</td>\n",
              "      <td>3.Divided, full control of access</td>\n",
              "      <td>7.Rural Principal Arterial - Other Freeways an...</td>\n",
              "      <td>5. Darkness - Road Not Lighted</td>\n",
              "      <td>http://rns/APP/Images/CrashDiagramProxy.aspx?d...</td>\n",
              "      <td>4.Richmond</td>\n",
              "      <td>NaN</td>\n",
              "      <td>VDOT_PRI</td>\n",
              "      <td>37.Goochland</td>\n",
              "      <td>15.Richmond Regional</td>\n",
              "      <td>65.0</td>\n",
              "      <td>45</td>\n",
              "      <td>23. Animal</td>\n",
              "      <td>STPRI</td>\n",
              "      <td>1. Dry</td>\n",
              "      <td>1</td>\n",
              "      <td>50</td>\n",
              "      <td>Female</td>\n",
              "      <td>C</td>\n",
              "      <td>NaN</td>\n",
              "      <td>NaN</td>\n",
              "      <td>NaN</td>\n",
              "      <td>NaN</td>\n",
              "      <td>NaN</td>\n",
              "      <td>NaN</td>\n",
              "    </tr>\n",
              "    <tr>\n",
              "      <th>2</th>\n",
              "      <td>-79.067566</td>\n",
              "      <td>37.499473</td>\n",
              "      <td>3</td>\n",
              "      <td>130015020</td>\n",
              "      <td>2013/01/02 00:00:00+00</td>\n",
              "      <td>0AM TO 3AM</td>\n",
              "      <td>1. No Adverse Condition (Clear/Cloudy)</td>\n",
              "      <td>R-VA   US00029NB</td>\n",
              "      <td>83.336520</td>\n",
              "      <td>23. Animal</td>\n",
              "      <td>Not_SPEED</td>\n",
              "      <td>BELTED</td>\n",
              "      <td>Not_ALCOHOL</td>\n",
              "      <td>NOT-RD</td>\n",
              "      <td>10. Deer</td>\n",
              "      <td>2. Truck - Pick-up/Passenger Truck</td>\n",
              "      <td>1. No Improper Action</td>\n",
              "      <td>PDO.Property Damage Only</td>\n",
              "      <td>0</td>\n",
              "      <td>0</td>\n",
              "      <td>0</td>\n",
              "      <td>0</td>\n",
              "      <td>37.499465</td>\n",
              "      <td>-79.067563</td>\n",
              "      <td>3</td>\n",
              "      <td>2</td>\n",
              "      <td>2</td>\n",
              "      <td>2013</td>\n",
              "      <td>2013-000014</td>\n",
              "      <td>3.Divided, full control of access</td>\n",
              "      <td>B.Urban Freeways and Expressways; Connecting L...</td>\n",
              "      <td>5. Darkness - Road Not Lighted</td>\n",
              "      <td>http://rns/APP/Images/CrashDiagramProxy.aspx?d...</td>\n",
              "      <td>3.Lynchburg</td>\n",
              "      <td>125036.US-29S;Ramp Intersection</td>\n",
              "      <td>VDOT_PRI</td>\n",
              "      <td>5.Amherst</td>\n",
              "      <td>11.Region 2000 Regional</td>\n",
              "      <td>70.0</td>\n",
              "      <td>148</td>\n",
              "      <td>23. Animal</td>\n",
              "      <td>USPRI</td>\n",
              "      <td>1. Dry</td>\n",
              "      <td>1</td>\n",
              "      <td>35</td>\n",
              "      <td>Male</td>\n",
              "      <td>PDO</td>\n",
              "      <td>NaN</td>\n",
              "      <td>NaN</td>\n",
              "      <td>NaN</td>\n",
              "      <td>NaN</td>\n",
              "      <td>NaN</td>\n",
              "      <td>NaN</td>\n",
              "    </tr>\n",
              "    <tr>\n",
              "      <th>3</th>\n",
              "      <td>-78.845314</td>\n",
              "      <td>38.453040</td>\n",
              "      <td>4</td>\n",
              "      <td>130015021</td>\n",
              "      <td>2013/01/02 00:00:00+00</td>\n",
              "      <td>3AM TO 6AM</td>\n",
              "      <td>1. No Adverse Condition (Clear/Cloudy)</td>\n",
              "      <td>R-VA115UR04110EB</td>\n",
              "      <td>1.501908</td>\n",
              "      <td>4. Fence Or Post</td>\n",
              "      <td>Not_SPEED</td>\n",
              "      <td>BELTED</td>\n",
              "      <td>Not_ALCOHOL</td>\n",
              "      <td>RD-UNKNOWN</td>\n",
              "      <td>9. Fixed Object - Off Road</td>\n",
              "      <td>1. Passenger car</td>\n",
              "      <td>40. Fail to Maintain Proper Control</td>\n",
              "      <td>PDO.Property Damage Only</td>\n",
              "      <td>0</td>\n",
              "      <td>0</td>\n",
              "      <td>0</td>\n",
              "      <td>0</td>\n",
              "      <td>38.453032</td>\n",
              "      <td>-78.845311</td>\n",
              "      <td>2</td>\n",
              "      <td>9</td>\n",
              "      <td>6</td>\n",
              "      <td>2013</td>\n",
              "      <td>2013-000073</td>\n",
              "      <td>0.Two-way, non-divided</td>\n",
              "      <td>I.Urban Collector</td>\n",
              "      <td>5. Darkness - Road Not Lighted</td>\n",
              "      <td>http://rns/APP/Images/CrashDiagramProxy.aspx?d...</td>\n",
              "      <td>8.Staunton</td>\n",
              "      <td>587178.Blue Ridge Dr; UR-4110E (City of Harris...</td>\n",
              "      <td>SEC_URBAN</td>\n",
              "      <td>115.Harrisonburg</td>\n",
              "      <td>6.Central Shenandoah</td>\n",
              "      <td>NaN</td>\n",
              "      <td>427</td>\n",
              "      <td>4. Fence Or Post</td>\n",
              "      <td>URB</td>\n",
              "      <td>1. Dry</td>\n",
              "      <td>1</td>\n",
              "      <td>24</td>\n",
              "      <td>Male</td>\n",
              "      <td>PDO</td>\n",
              "      <td>NaN</td>\n",
              "      <td>NaN</td>\n",
              "      <td>NaN</td>\n",
              "      <td>NaN</td>\n",
              "      <td>NaN</td>\n",
              "      <td>NaN</td>\n",
              "    </tr>\n",
              "    <tr>\n",
              "      <th>4</th>\n",
              "      <td>-77.084017</td>\n",
              "      <td>38.885604</td>\n",
              "      <td>5</td>\n",
              "      <td>130015041</td>\n",
              "      <td>2013/01/02 00:00:00+00</td>\n",
              "      <td>6AM TO 9AM</td>\n",
              "      <td>1. No Adverse Condition (Clear/Cloudy)</td>\n",
              "      <td>R-VA   US00050EB</td>\n",
              "      <td>84.790921</td>\n",
              "      <td>11. Jersey Wall</td>\n",
              "      <td>Not_SPEED</td>\n",
              "      <td>BELTED</td>\n",
              "      <td>ALCOHOL</td>\n",
              "      <td>NOT-RD</td>\n",
              "      <td>9. Fixed Object - Off Road</td>\n",
              "      <td>1. Passenger car</td>\n",
              "      <td>40. Fail to Maintain Proper Control</td>\n",
              "      <td>PDO.Property Damage Only</td>\n",
              "      <td>0</td>\n",
              "      <td>0</td>\n",
              "      <td>0</td>\n",
              "      <td>0</td>\n",
              "      <td>38.885596</td>\n",
              "      <td>-77.084014</td>\n",
              "      <td>7</td>\n",
              "      <td>2</td>\n",
              "      <td>2</td>\n",
              "      <td>2013</td>\n",
              "      <td>130101-026</td>\n",
              "      <td>3.Divided, full control of access</td>\n",
              "      <td>E.Urban Other Principal Arterials; Connecting ...</td>\n",
              "      <td>4. Darkness - Road Lighted</td>\n",
              "      <td>http://rns/APP/Images/CrashDiagramProxy.aspx?d...</td>\n",
              "      <td>9.Northern Virginia</td>\n",
              "      <td>100218.10th St N; US-50E;VA-237E</td>\n",
              "      <td>VDOT_PRI</td>\n",
              "      <td>0.Arlington</td>\n",
              "      <td>8.Northern Virginia</td>\n",
              "      <td>45.0</td>\n",
              "      <td>617</td>\n",
              "      <td>11. Jersey Wall</td>\n",
              "      <td>USPRI</td>\n",
              "      <td>1. Dry</td>\n",
              "      <td>1</td>\n",
              "      <td>29</td>\n",
              "      <td>Female</td>\n",
              "      <td>PDO</td>\n",
              "      <td>NaN</td>\n",
              "      <td>NaN</td>\n",
              "      <td>NaN</td>\n",
              "      <td>NaN</td>\n",
              "      <td>NaN</td>\n",
              "      <td>NaN</td>\n",
              "    </tr>\n",
              "  </tbody>\n",
              "</table>\n",
              "</div>"
            ],
            "text/plain": [
              "           X          Y  OBJECTID  ...  Pedinjurytype Passgen Passinjurytype\n",
              "0 -76.699480  36.827038         1  ...            NaN     NaN            NaN\n",
              "1 -77.663366  37.609240         2  ...            NaN     NaN            NaN\n",
              "2 -79.067566  37.499473         3  ...            NaN     NaN            NaN\n",
              "3 -78.845314  38.453040         4  ...            NaN     NaN            NaN\n",
              "4 -77.084017  38.885604         5  ...            NaN     NaN            NaN\n",
              "\n",
              "[5 rows x 53 columns]"
            ]
          },
          "metadata": {
            "tags": []
          },
          "execution_count": 3
        }
      ]
    },
    {
      "cell_type": "code",
      "metadata": {
        "id": "LtKrxjIHVq6Y",
        "outputId": "5ce9aec7-37f6-4711-ae4d-9297138af9c1",
        "colab": {
          "base_uri": "https://localhost:8080/"
        }
      },
      "source": [
        "# Shape of original dataset\n",
        "df0.shape"
      ],
      "execution_count": null,
      "outputs": [
        {
          "output_type": "execute_result",
          "data": {
            "text/plain": [
              "(939248, 53)"
            ]
          },
          "metadata": {
            "tags": []
          },
          "execution_count": 4
        }
      ]
    },
    {
      "cell_type": "code",
      "metadata": {
        "id": "c0HDTfCaoHMU"
      },
      "source": [
        "#Generate interactive geographic plot of Crashes in Virginia\n",
        "import plotly.express as px\n",
        "df20 = df0[(df0.CRASH_YEAR == 2019) | (df0.CRASH_YEAR == 2020)]\n",
        "\n",
        "fig = px.scatter_mapbox(df20, lat='LATITUDE', lon='LONGITUDE', \n",
        "                        color='Crash_Severity', zoom=5.5,\n",
        "                        hover_name='VDOT_District',hover_data=['Weather_Condition','Collision_Type','Rte_Nm']\n",
        "                       )\n",
        "fig.update_layout(mapbox_style=\"open-street-map\")\n",
        "fig.show()"
      ],
      "execution_count": null,
      "outputs": []
    },
    {
      "cell_type": "code",
      "metadata": {
        "id": "diI6DLQxKlaX"
      },
      "source": [
        "# Drop redundant columns\n",
        "df = df0.drop([\"OBJECTID\", \"Document_Nbr\", \"Rte_Nm\", \"Local_Case_Cd\", \"DIAGRAM\", \"Node_Info\", \"X\", \"Y\"], axis = 1)\n",
        "\n",
        "# Filter the dataset to only contain crashes from the past two years\n",
        "indices = np.where(np.logical_or(df[\"CRASH_YEAR\"] == 2019, df[\"CRASH_YEAR\"] == 2020))[0]\n",
        "df_filt = df.iloc[indices, :].reset_index(drop = True)\n",
        "\n",
        "variables = {\n",
        "        \"ordinal\" : [\"Time_Slicing\", \"Speed_Notspeed\", \"Belted_Unbelted\", \"Alcohol_Notalcohol\"],\n",
        "        \"nominal\" : [\"Weather_Condition\", \"First_Harmful_Event_of_Entire_C\", \"Collision_Type\", \"FAC\", \"FUN\", \"Light_Condition\", \"VDOT_District\", \"Ownership_Used\", \"Crash_Event_Type_Dsc\", \"Roadway_Surface_Cond\"],\n",
        "        \"numerical\": [\"Rns_Mp\", \"K_People\", \"A_People\", \"B_People\", \"C_People\", \"LATITUDE\", \"LONGITUDE\", \"VSP\", \"SYSTEM\", \"OWNERSHIP\", \"Carspeedlimit\", \"Crash_Military_Tm\"],\n",
        "        \"target\": [\"Crash_Severity\"]\n",
        "        }"
      ],
      "execution_count": null,
      "outputs": []
    },
    {
      "cell_type": "code",
      "metadata": {
        "id": "Qj1S1SUjoj08"
      },
      "source": [
        "#Distributions of dataset features\n",
        "%matplotlib inline\n",
        "import matplotlib.pyplot as plt\n",
        "df.hist(bins=12, figsize=(20,15))\n",
        "plt.show()"
      ],
      "execution_count": null,
      "outputs": []
    },
    {
      "cell_type": "code",
      "metadata": {
        "id": "OSP7I0DGoksK"
      },
      "source": [
        "#Scatter matrix of particular features in data\n",
        "from pandas.plotting import scatter_matrix\n",
        "\n",
        "attributes = [\"Pedage\", \"Passage\", \"LATITUDE\",\n",
        "              \"LONGITUDE\", \"VSP\"]\n",
        "scatter_matrix(df[attributes], figsize=(12, 8))"
      ],
      "execution_count": null,
      "outputs": []
    },
    {
      "cell_type": "code",
      "metadata": {
        "id": "yvunG1V7S0QV"
      },
      "source": [
        "# Split into X and Y\n",
        "X = df_filt[variables[\"ordinal\"] + variables[\"nominal\"] + variables[\"numerical\"]]\n",
        "Y = df_filt[\"Crash_Severity\"]\n",
        "\n",
        "X_train, X_test, Y_train, Y_test = train_test_split(X, Y, test_size = 0.2, random_state = 0)"
      ],
      "execution_count": null,
      "outputs": []
    },
    {
      "cell_type": "code",
      "metadata": {
        "id": "VGF1VbPjKrWi"
      },
      "source": [
        "# Reset index\n",
        "X_train = X_train.reset_index(drop = True)\n",
        "X_test = X_test.reset_index(drop = True)\n",
        "Y_train = Y_train.reset_index(drop = True)\n",
        "Y_test = Y_test.reset_index(drop = True)"
      ],
      "execution_count": null,
      "outputs": []
    },
    {
      "cell_type": "code",
      "metadata": {
        "id": "Czm-gN7aYMHO",
        "outputId": "eeddfa36-1504-403c-9919-7d5bac5202a4",
        "colab": {
          "base_uri": "https://localhost:8080/"
        }
      },
      "source": [
        "print(X_train.shape)\n",
        "print(Y_train.shape)\n",
        "print(X_test.shape)\n",
        "print(Y_test.shape)"
      ],
      "execution_count": null,
      "outputs": [
        {
          "output_type": "stream",
          "text": [
            "(147060, 26)\n",
            "(147060,)\n",
            "(36765, 26)\n",
            "(36765,)\n"
          ],
          "name": "stdout"
        }
      ]
    },
    {
      "cell_type": "code",
      "metadata": {
        "id": "pPVNmBwIXozy",
        "outputId": "18b99463-f129-4621-94e3-cbce0145f8ea",
        "colab": {
          "base_uri": "https://localhost:8080/"
        }
      },
      "source": [
        "pd.Series(Y_train).value_counts().sort_values(ascending = False) / Y_train.size"
      ],
      "execution_count": null,
      "outputs": [
        {
          "output_type": "execute_result",
          "data": {
            "text/plain": [
              "PDO.Property Damage Only    0.666605\n",
              "B.Visible Injury            0.200823\n",
              "C.Nonvisible Injury         0.078009\n",
              "A.Severe Injury             0.048123\n",
              "K.Fatal Injury              0.006440\n",
              "Name: Crash_Severity, dtype: float64"
            ]
          },
          "metadata": {
            "tags": []
          },
          "execution_count": 9
        }
      ]
    },
    {
      "cell_type": "code",
      "metadata": {
        "id": "wUU-4kZnXgNR",
        "outputId": "eeaf05e3-dac3-44e4-a65e-750008f5b7b9",
        "colab": {
          "base_uri": "https://localhost:8080/"
        }
      },
      "source": [
        "pd.Series(Y_test).value_counts().sort_values(ascending = False) / Y_test.size"
      ],
      "execution_count": null,
      "outputs": [
        {
          "output_type": "execute_result",
          "data": {
            "text/plain": [
              "PDO.Property Damage Only    0.665823\n",
              "B.Visible Injury            0.200626\n",
              "C.Nonvisible Injury         0.080103\n",
              "A.Severe Injury             0.046484\n",
              "K.Fatal Injury              0.006963\n",
              "Name: Crash_Severity, dtype: float64"
            ]
          },
          "metadata": {
            "tags": []
          },
          "execution_count": 10
        }
      ]
    },
    {
      "cell_type": "code",
      "metadata": {
        "id": "pMV46aa4K0fa"
      },
      "source": [
        "# Split into ordinal and numerical sets\n",
        "X_train_ordinal = X_train[variables[\"ordinal\"]]\n",
        "X_train_numerical = X_train[variables[\"numerical\"]]\n",
        "X_test_ordinal = X_test[variables[\"ordinal\"]]\n",
        "X_test_numerical = X_test[variables[\"numerical\"]]"
      ],
      "execution_count": null,
      "outputs": []
    },
    {
      "cell_type": "code",
      "metadata": {
        "id": "HMMZ7KR6K5t7",
        "outputId": "d4aeead5-f3c8-48a4-a676-5d66d9e07dd8",
        "colab": {
          "base_uri": "https://localhost:8080/"
        }
      },
      "source": [
        "# Remove any rows with missing values for nominal features\n",
        "X_train_nominal = X_train[variables[\"nominal\"]]\n",
        "X_train_nominal_missing = np.array(X_train_nominal.isna()).any(axis = 1)\n",
        "X_train_nominal_missing_indices = np.where(X_train_nominal_missing)[0]\n",
        "X_train.drop(X_train_nominal_missing_indices, inplace = True)\n",
        "X_train_ordinal.drop(X_train_nominal_missing_indices, inplace = True)\n",
        "X_train_numerical.drop(X_train_nominal_missing_indices, inplace = True)\n",
        "X_train_nominal.drop(X_train_nominal_missing_indices, inplace = True)\n",
        "Y_train.drop(X_train_nominal_missing_indices, inplace = True)\n",
        "\n",
        "X_test_nominal = X_test[variables[\"nominal\"]]\n",
        "X_test_nominal_missing = np.array(X_test_nominal.isna()).any(axis = 1)\n",
        "X_test_nominal_missing_indices = np.where(X_test_nominal_missing)[0]\n",
        "\n",
        "X_test.drop(X_test_nominal_missing_indices, inplace = True)\n",
        "X_test_ordinal.drop(X_test_nominal_missing_indices, inplace = True)\n",
        "X_test_numerical.drop(X_test_nominal_missing_indices, inplace = True)\n",
        "X_test_nominal.drop(X_test_nominal_missing_indices, inplace = True)\n",
        "Y_test.drop(X_test_nominal_missing_indices, inplace = True)"
      ],
      "execution_count": null,
      "outputs": [
        {
          "output_type": "stream",
          "text": [
            "/usr/local/lib/python3.6/dist-packages/pandas/core/frame.py:4174: SettingWithCopyWarning: \n",
            "A value is trying to be set on a copy of a slice from a DataFrame\n",
            "\n",
            "See the caveats in the documentation: https://pandas.pydata.org/pandas-docs/stable/user_guide/indexing.html#returning-a-view-versus-a-copy\n",
            "  errors=errors,\n"
          ],
          "name": "stderr"
        }
      ]
    },
    {
      "cell_type": "code",
      "metadata": {
        "id": "9xHfHYITLFAo"
      },
      "source": [
        "# Ordinal encoding \n",
        "enc = OrdinalEncoder()\n",
        "X_train_ordinal_tr = enc.fit_transform(X_train_ordinal)\n",
        "X_test_ordinal_tr = enc.transform(X_test_ordinal)"
      ],
      "execution_count": null,
      "outputs": []
    },
    {
      "cell_type": "code",
      "metadata": {
        "id": "1qCKEsrCLHFj"
      },
      "source": [
        "# One-hot encoding\n",
        "enc2 = OneHotEncoder(drop = \"first\")\n",
        "X_train_nominal_tr = enc2.fit_transform(X_train_nominal).toarray()\n",
        "X_test_nominal_tr = enc2.transform(X_test_nominal).toarray()"
      ],
      "execution_count": null,
      "outputs": []
    },
    {
      "cell_type": "code",
      "metadata": {
        "id": "WOfOqJ5zLHJ-"
      },
      "source": [
        "# Numerical processing\n",
        "imp = SimpleImputer(strategy = \"median\")\n",
        "X_train_numerical = imp.fit_transform(X_train_numerical)\n",
        "X_test_numerical = imp.transform(X_test_numerical)\n",
        "sc = StandardScaler()\n",
        "X_train_numerical_tr = sc.fit_transform(X_train_numerical)\n",
        "X_test_numerical_tr = sc.transform(X_test_numerical)"
      ],
      "execution_count": null,
      "outputs": []
    },
    {
      "cell_type": "code",
      "metadata": {
        "id": "UpWCsnSVLKXF"
      },
      "source": [
        "# Label encoding\n",
        "label_map = {\"PDO.Property Damage Only\" : 0,\n",
        "             \"C.Nonvisible Injury\"      : 1,\n",
        "             \"B.Visible Injury\"         : 2,\n",
        "             \"A.Severe Injury\"          : 3,\n",
        "             \"K.Fatal Injury\"           : 4}\n",
        "Y_train_tr = Y_train.replace(label_map)\n",
        "Y_test_tr = Y_test.replace(label_map)"
      ],
      "execution_count": null,
      "outputs": []
    },
    {
      "cell_type": "code",
      "metadata": {
        "id": "XlKP0c-hKe_J"
      },
      "source": [
        "# Concatenate all of the X arrays\n",
        "X_train_numerical_tr = pd.DataFrame(X_train_numerical_tr)\n",
        "X_train_ordinal_tr = pd.DataFrame(X_train_ordinal_tr)\n",
        "X_train_nominal_tr = pd.DataFrame(X_train_nominal_tr)\n",
        "X_train_tr = pd.concat((X_train_numerical_tr, X_train_ordinal_tr, X_train_nominal_tr), axis = 1)\n",
        "\n",
        "X_test_numerical_tr = pd.DataFrame(X_test_numerical_tr)\n",
        "X_test_ordinal_tr = pd.DataFrame(X_test_ordinal_tr)\n",
        "X_test_nominal_tr = pd.DataFrame(X_test_nominal_tr)\n",
        "X_test_tr = pd.concat((X_test_numerical_tr, X_test_ordinal_tr, X_test_nominal_tr), axis = 1)"
      ],
      "execution_count": null,
      "outputs": []
    },
    {
      "cell_type": "code",
      "metadata": {
        "id": "Np_6gH4lX_5A",
        "outputId": "2befcd3a-2733-4b73-fab6-743e3a58b31d",
        "colab": {
          "base_uri": "https://localhost:8080/"
        }
      },
      "source": [
        "# Compare array shapes before and after encoding\n",
        "print(\"X_train:\", X_train.shape, \"-->\", X_train_tr.shape)\n",
        "print(\"Y_train:\", Y_train.shape)\n",
        "print(\"X_test:\", X_test.shape, \"-->\", X_test_tr.shape)\n",
        "print(\"Y_test:\", Y_test.shape)"
      ],
      "execution_count": null,
      "outputs": [
        {
          "output_type": "stream",
          "text": [
            "X_train: (130531, 26) --> (130531, 170)\n",
            "Y_train: (130531,)\n",
            "X_test: (32649, 26) --> (32649, 170)\n",
            "Y_test: (32649,)\n"
          ],
          "name": "stdout"
        }
      ]
    },
    {
      "cell_type": "code",
      "metadata": {
        "id": "d5Eq__9jTqzd",
        "outputId": "569dd3cc-cf83-42fd-a0c7-3b6549ce45f0",
        "colab": {
          "base_uri": "https://localhost:8080/"
        }
      },
      "source": [
        "pd.Series(Y_train_tr).value_counts().sort_values(ascending = False) / Y_train_tr.size"
      ],
      "execution_count": null,
      "outputs": [
        {
          "output_type": "execute_result",
          "data": {
            "text/plain": [
              "0    0.665597\n",
              "2    0.203760\n",
              "1    0.074925\n",
              "3    0.048877\n",
              "4    0.006841\n",
              "Name: Crash_Severity, dtype: float64"
            ]
          },
          "metadata": {
            "tags": []
          },
          "execution_count": 19
        }
      ]
    },
    {
      "cell_type": "code",
      "metadata": {
        "id": "n7qQDZbbR0eh",
        "outputId": "52514b05-540a-4777-e651-8881e22c82a7",
        "colab": {
          "base_uri": "https://localhost:8080/"
        }
      },
      "source": [
        "pd.Series(Y_test_tr).value_counts().sort_values(ascending = False) / Y_test_tr.size"
      ],
      "execution_count": null,
      "outputs": [
        {
          "output_type": "execute_result",
          "data": {
            "text/plain": [
              "0    0.665717\n",
              "2    0.202395\n",
              "1    0.076817\n",
              "3    0.047597\n",
              "4    0.007473\n",
              "Name: Crash_Severity, dtype: float64"
            ]
          },
          "metadata": {
            "tags": []
          },
          "execution_count": 20
        }
      ]
    },
    {
      "cell_type": "code",
      "metadata": {
        "id": "ioiFn-tXLCeU",
        "outputId": "abf6227d-e9c6-41e5-8f1f-b63c741f9e77",
        "colab": {
          "base_uri": "https://localhost:8080/",
          "height": 279
        }
      },
      "source": [
        "# Visualize PCA for various numbers of principal components\n",
        "pca = PCA()\n",
        "pca.fit(X_train_tr)\n",
        "pca_variances = np.cumsum(pca.explained_variance_ratio_)\n",
        "plt.figure()\n",
        "plt.plot(pca_variances)\n",
        "plt.xlabel('Number of Components')\n",
        "plt.ylabel('Variance (%)') # for each component\n",
        "plt.show()"
      ],
      "execution_count": null,
      "outputs": [
        {
          "output_type": "display_data",
          "data": {
            "image/png": "[encoded data removed]",
            "text/plain": [
              "<Figure size 432x288 with 1 Axes>"
            ]
          },
          "metadata": {
            "tags": [],
            "needs_background": "light"
          }
        }
      ]
    },
    {
      "cell_type": "code",
      "metadata": {
        "id": "yz2zchL8LkqS"
      },
      "source": [
        "# Apply PCA to the data\n",
        "n_pc = np.where(pca_variances >= 0.99)[0][0] + 1\n",
        "pca = PCA(n_components = n_pc).fit(X_train_tr)\n",
        "X_train_pca = pca.transform(X_train_tr)\n",
        "X_test_pca = pca.transform(X_test_tr)"
      ],
      "execution_count": null,
      "outputs": []
    },
    {
      "cell_type": "code",
      "metadata": {
        "id": "YFxMOhJPOCw4",
        "outputId": "b166e24b-c4ec-4a9e-fcd0-7061c7fc4874",
        "colab": {
          "base_uri": "https://localhost:8080/"
        }
      },
      "source": [
        "# Compare array shapes before and after PCA\n",
        "print(\"X_train:\", X_train_tr.shape, \"-->\", X_train_pca.shape)\n",
        "print(\"Y_train:\", Y_train_tr.shape)\n",
        "print(\"X_test:\", X_test_tr.shape, \"-->\", X_test_pca.shape)\n",
        "print(\"Y_test:\", Y_test_tr.shape)"
      ],
      "execution_count": null,
      "outputs": [
        {
          "output_type": "stream",
          "text": [
            "X_train: (130531, 170) --> (130531, 60)\n",
            "Y_train: (130531,)\n",
            "X_test: (32649, 170) --> (32649, 60)\n",
            "Y_test: (32649,)\n"
          ],
          "name": "stdout"
        }
      ]
    },
    {
      "cell_type": "code",
      "metadata": {
        "id": "1wemRN6cQqJW",
        "outputId": "515b8cf6-5d5d-437d-d6a6-0c43f4c1e8a2",
        "colab": {
          "base_uri": "https://localhost:8080/"
        }
      },
      "source": [
        "# Number of classes\n",
        "n_classes = np.unique(Y_train_tr).size\n",
        "n_classes"
      ],
      "execution_count": null,
      "outputs": [
        {
          "output_type": "execute_result",
          "data": {
            "text/plain": [
              "5"
            ]
          },
          "metadata": {
            "tags": []
          },
          "execution_count": 24
        }
      ]
    },
    {
      "cell_type": "code",
      "metadata": {
        "id": "mr8eW7h0Z4wQ",
        "outputId": "55483d6f-4971-4217-91b5-e75909fc0c10",
        "colab": {
          "base_uri": "https://localhost:8080/"
        }
      },
      "source": [
        "model = LogisticRegression()\n",
        "model.fit(X_train_pca, Y_train_tr)"
      ],
      "execution_count": null,
      "outputs": [
        {
          "output_type": "stream",
          "text": [
            "/usr/local/lib/python3.6/dist-packages/sklearn/linear_model/_logistic.py:940: ConvergenceWarning: lbfgs failed to converge (status=1):\n",
            "STOP: TOTAL NO. of ITERATIONS REACHED LIMIT.\n",
            "\n",
            "Increase the number of iterations (max_iter) or scale the data as shown in:\n",
            "    https://scikit-learn.org/stable/modules/preprocessing.html\n",
            "Please also refer to the documentation for alternative solver options:\n",
            "    https://scikit-learn.org/stable/modules/linear_model.html#logistic-regression\n",
            "  extra_warning_msg=_LOGISTIC_SOLVER_CONVERGENCE_MSG)\n"
          ],
          "name": "stderr"
        },
        {
          "output_type": "execute_result",
          "data": {
            "text/plain": [
              "LogisticRegression(C=1.0, class_weight=None, dual=False, fit_intercept=True,\n",
              "                   intercept_scaling=1, l1_ratio=None, max_iter=100,\n",
              "                   multi_class='auto', n_jobs=None, penalty='l2',\n",
              "                   random_state=None, solver='lbfgs', tol=0.0001, verbose=0,\n",
              "                   warm_start=False)"
            ]
          },
          "metadata": {
            "tags": []
          },
          "execution_count": 25
        }
      ]
    },
    {
      "cell_type": "code",
      "metadata": {
        "id": "tS7x452gLtDE"
      },
      "source": [
        "# Make predictions\n",
        "Y_train_pred = model.predict(X_train_pca)\n",
        "Y_test_pred = model.predict(X_test_pca)"
      ],
      "execution_count": null,
      "outputs": []
    },
    {
      "cell_type": "code",
      "metadata": {
        "id": "seJBWt2lDeGy",
        "outputId": "885e89c4-f69c-441b-dc25-e5a986260ac0",
        "colab": {
          "base_uri": "https://localhost:8080/",
          "height": 195
        }
      },
      "source": [
        "# Confusion matrix for training set\n",
        "pd.DataFrame(confusion_matrix(Y_train_pred, Y_train_tr))"
      ],
      "execution_count": null,
      "outputs": [
        {
          "output_type": "execute_result",
          "data": {
            "text/html": [
              "<div>\n",
              "<style scoped>\n",
              "    .dataframe tbody tr th:only-of-type {\n",
              "        vertical-align: middle;\n",
              "    }\n",
              "\n",
              "    .dataframe tbody tr th {\n",
              "        vertical-align: top;\n",
              "    }\n",
              "\n",
              "    .dataframe thead th {\n",
              "        text-align: right;\n",
              "    }\n",
              "</style>\n",
              "<table border=\"1\" class=\"dataframe\">\n",
              "  <thead>\n",
              "    <tr style=\"text-align: right;\">\n",
              "      <th></th>\n",
              "      <th>0</th>\n",
              "      <th>1</th>\n",
              "      <th>2</th>\n",
              "      <th>3</th>\n",
              "      <th>4</th>\n",
              "    </tr>\n",
              "  </thead>\n",
              "  <tbody>\n",
              "    <tr>\n",
              "      <th>0</th>\n",
              "      <td>86881</td>\n",
              "      <td>0</td>\n",
              "      <td>0</td>\n",
              "      <td>0</td>\n",
              "      <td>0</td>\n",
              "    </tr>\n",
              "    <tr>\n",
              "      <th>1</th>\n",
              "      <td>0</td>\n",
              "      <td>9780</td>\n",
              "      <td>1</td>\n",
              "      <td>0</td>\n",
              "      <td>0</td>\n",
              "    </tr>\n",
              "    <tr>\n",
              "      <th>2</th>\n",
              "      <td>0</td>\n",
              "      <td>0</td>\n",
              "      <td>26596</td>\n",
              "      <td>0</td>\n",
              "      <td>0</td>\n",
              "    </tr>\n",
              "    <tr>\n",
              "      <th>3</th>\n",
              "      <td>0</td>\n",
              "      <td>0</td>\n",
              "      <td>0</td>\n",
              "      <td>6380</td>\n",
              "      <td>0</td>\n",
              "    </tr>\n",
              "    <tr>\n",
              "      <th>4</th>\n",
              "      <td>0</td>\n",
              "      <td>0</td>\n",
              "      <td>0</td>\n",
              "      <td>0</td>\n",
              "      <td>893</td>\n",
              "    </tr>\n",
              "  </tbody>\n",
              "</table>\n",
              "</div>"
            ],
            "text/plain": [
              "       0     1      2     3    4\n",
              "0  86881     0      0     0    0\n",
              "1      0  9780      1     0    0\n",
              "2      0     0  26596     0    0\n",
              "3      0     0      0  6380    0\n",
              "4      0     0      0     0  893"
            ]
          },
          "metadata": {
            "tags": []
          },
          "execution_count": 27
        }
      ]
    },
    {
      "cell_type": "code",
      "metadata": {
        "id": "k3V9kMkbB_F4",
        "outputId": "c8a3706c-943b-4ffd-9bf0-a4108877dc6f",
        "colab": {
          "base_uri": "https://localhost:8080/",
          "height": 195
        }
      },
      "source": [
        "# Confusion matrix for testing set\n",
        "pd.DataFrame(confusion_matrix(Y_test_pred, Y_test_tr))"
      ],
      "execution_count": null,
      "outputs": [
        {
          "output_type": "execute_result",
          "data": {
            "text/html": [
              "<div>\n",
              "<style scoped>\n",
              "    .dataframe tbody tr th:only-of-type {\n",
              "        vertical-align: middle;\n",
              "    }\n",
              "\n",
              "    .dataframe tbody tr th {\n",
              "        vertical-align: top;\n",
              "    }\n",
              "\n",
              "    .dataframe thead th {\n",
              "        text-align: right;\n",
              "    }\n",
              "</style>\n",
              "<table border=\"1\" class=\"dataframe\">\n",
              "  <thead>\n",
              "    <tr style=\"text-align: right;\">\n",
              "      <th></th>\n",
              "      <th>0</th>\n",
              "      <th>1</th>\n",
              "      <th>2</th>\n",
              "      <th>3</th>\n",
              "      <th>4</th>\n",
              "    </tr>\n",
              "  </thead>\n",
              "  <tbody>\n",
              "    <tr>\n",
              "      <th>0</th>\n",
              "      <td>21735</td>\n",
              "      <td>0</td>\n",
              "      <td>0</td>\n",
              "      <td>0</td>\n",
              "      <td>0</td>\n",
              "    </tr>\n",
              "    <tr>\n",
              "      <th>1</th>\n",
              "      <td>0</td>\n",
              "      <td>2508</td>\n",
              "      <td>0</td>\n",
              "      <td>0</td>\n",
              "      <td>0</td>\n",
              "    </tr>\n",
              "    <tr>\n",
              "      <th>2</th>\n",
              "      <td>0</td>\n",
              "      <td>0</td>\n",
              "      <td>6608</td>\n",
              "      <td>0</td>\n",
              "      <td>0</td>\n",
              "    </tr>\n",
              "    <tr>\n",
              "      <th>3</th>\n",
              "      <td>0</td>\n",
              "      <td>0</td>\n",
              "      <td>0</td>\n",
              "      <td>1554</td>\n",
              "      <td>0</td>\n",
              "    </tr>\n",
              "    <tr>\n",
              "      <th>4</th>\n",
              "      <td>0</td>\n",
              "      <td>0</td>\n",
              "      <td>0</td>\n",
              "      <td>0</td>\n",
              "      <td>244</td>\n",
              "    </tr>\n",
              "  </tbody>\n",
              "</table>\n",
              "</div>"
            ],
            "text/plain": [
              "       0     1     2     3    4\n",
              "0  21735     0     0     0    0\n",
              "1      0  2508     0     0    0\n",
              "2      0     0  6608     0    0\n",
              "3      0     0     0  1554    0\n",
              "4      0     0     0     0  244"
            ]
          },
          "metadata": {
            "tags": []
          },
          "execution_count": 28
        }
      ]
    },
    {
      "cell_type": "code",
      "metadata": {
        "id": "QkMecFB2LWum"
      },
      "source": [
        "# Calculate metrics for training set\n",
        "acc_train = accuracy_score(Y_train_tr, Y_train_pred)\n",
        "prec_train = precision_score(Y_train_tr, Y_train_pred, average = None)\n",
        "recall_train = recall_score(Y_train_tr, Y_train_pred, average = None)\n",
        "f1_train = f1_score(Y_train_tr, Y_train_pred, average = None)\n",
        "\n",
        "# Calculate metrics for testing set\n",
        "acc_test = accuracy_score(Y_test_tr, Y_test_pred)\n",
        "prec_test = precision_score(Y_test_tr, Y_test_pred, average = None)\n",
        "recall_test = recall_score(Y_test_tr, Y_test_pred, average = None)\n",
        "f1_test = f1_score(Y_test_tr, Y_test_pred, average = None)"
      ],
      "execution_count": null,
      "outputs": []
    },
    {
      "cell_type": "code",
      "metadata": {
        "id": "01iBbJdmL7jj"
      },
      "source": [
        "# Create dataframe\n",
        "metrics_train = np.array([acc_train, \\\n",
        "                          prec_train[0], prec_train[1], prec_train[2], prec_train[3], prec_train[4], \\\n",
        "                          recall_train[0], recall_train[1], recall_train[2], recall_train[3], recall_train[4], \\\n",
        "                          f1_train[0], f1_train[1], f1_train[2], f1_train[3], f1_train[4]])\n",
        "\n",
        "metrics_test = np.array([acc_test, \\\n",
        "                         prec_test[0], prec_test[1], prec_test[2], prec_test[3], prec_test[4], \\\n",
        "                         recall_test[0], recall_test[1], recall_test[2], recall_test[3], recall_test[4], \\\n",
        "                         f1_test[0], f1_test[1], f1_test[2], f1_test[3], f1_test[4]])\n",
        "\n",
        "metrics = {\"Training Set\": metrics_train, \"Testing Set\": metrics_test}\n",
        "metrics = pd.DataFrame(metrics)\n",
        "metrics.index = [\"Accuracy\", \\\n",
        "                 \"Precision (Class 0)\", \"Precision (Class 1)\", \"Precision (Class 2)\", \"Precision (Class 3)\", \"Precision (Class 4)\", \\\n",
        "                 \"Recall (Class 0)\", \"Recall (Class 1)\", \"Recall (Class 2)\", \"Recall (Class 3)\", \"Recall (Class 4)\", \\\n",
        "                 \"F1 Score (Class 0)\", \"F1 Score (Class 1)\", \"F1 Score (Class 2)\", \"F1 Score (Class 3)\", \"F1 Score (Class 4)\"]"
      ],
      "execution_count": null,
      "outputs": []
    },
    {
      "cell_type": "code",
      "metadata": {
        "id": "3PU_qgdXLwv2",
        "outputId": "b17caf43-dfed-4b8c-fd83-ab078b42b46f",
        "colab": {
          "base_uri": "https://localhost:8080/",
          "height": 521
        }
      },
      "source": [
        "# Display metrics\n",
        "metrics"
      ],
      "execution_count": null,
      "outputs": [
        {
          "output_type": "execute_result",
          "data": {
            "text/html": [
              "<div>\n",
              "<style scoped>\n",
              "    .dataframe tbody tr th:only-of-type {\n",
              "        vertical-align: middle;\n",
              "    }\n",
              "\n",
              "    .dataframe tbody tr th {\n",
              "        vertical-align: top;\n",
              "    }\n",
              "\n",
              "    .dataframe thead th {\n",
              "        text-align: right;\n",
              "    }\n",
              "</style>\n",
              "<table border=\"1\" class=\"dataframe\">\n",
              "  <thead>\n",
              "    <tr style=\"text-align: right;\">\n",
              "      <th></th>\n",
              "      <th>Training Set</th>\n",
              "      <th>Testing Set</th>\n",
              "    </tr>\n",
              "  </thead>\n",
              "  <tbody>\n",
              "    <tr>\n",
              "      <th>Accuracy</th>\n",
              "      <td>0.999992</td>\n",
              "      <td>1.0</td>\n",
              "    </tr>\n",
              "    <tr>\n",
              "      <th>Precision (Class 0)</th>\n",
              "      <td>1.000000</td>\n",
              "      <td>1.0</td>\n",
              "    </tr>\n",
              "    <tr>\n",
              "      <th>Precision (Class 1)</th>\n",
              "      <td>0.999898</td>\n",
              "      <td>1.0</td>\n",
              "    </tr>\n",
              "    <tr>\n",
              "      <th>Precision (Class 2)</th>\n",
              "      <td>1.000000</td>\n",
              "      <td>1.0</td>\n",
              "    </tr>\n",
              "    <tr>\n",
              "      <th>Precision (Class 3)</th>\n",
              "      <td>1.000000</td>\n",
              "      <td>1.0</td>\n",
              "    </tr>\n",
              "    <tr>\n",
              "      <th>Precision (Class 4)</th>\n",
              "      <td>1.000000</td>\n",
              "      <td>1.0</td>\n",
              "    </tr>\n",
              "    <tr>\n",
              "      <th>Recall (Class 0)</th>\n",
              "      <td>1.000000</td>\n",
              "      <td>1.0</td>\n",
              "    </tr>\n",
              "    <tr>\n",
              "      <th>Recall (Class 1)</th>\n",
              "      <td>1.000000</td>\n",
              "      <td>1.0</td>\n",
              "    </tr>\n",
              "    <tr>\n",
              "      <th>Recall (Class 2)</th>\n",
              "      <td>0.999962</td>\n",
              "      <td>1.0</td>\n",
              "    </tr>\n",
              "    <tr>\n",
              "      <th>Recall (Class 3)</th>\n",
              "      <td>1.000000</td>\n",
              "      <td>1.0</td>\n",
              "    </tr>\n",
              "    <tr>\n",
              "      <th>Recall (Class 4)</th>\n",
              "      <td>1.000000</td>\n",
              "      <td>1.0</td>\n",
              "    </tr>\n",
              "    <tr>\n",
              "      <th>F1 Score (Class 0)</th>\n",
              "      <td>1.000000</td>\n",
              "      <td>1.0</td>\n",
              "    </tr>\n",
              "    <tr>\n",
              "      <th>F1 Score (Class 1)</th>\n",
              "      <td>0.999949</td>\n",
              "      <td>1.0</td>\n",
              "    </tr>\n",
              "    <tr>\n",
              "      <th>F1 Score (Class 2)</th>\n",
              "      <td>0.999981</td>\n",
              "      <td>1.0</td>\n",
              "    </tr>\n",
              "    <tr>\n",
              "      <th>F1 Score (Class 3)</th>\n",
              "      <td>1.000000</td>\n",
              "      <td>1.0</td>\n",
              "    </tr>\n",
              "    <tr>\n",
              "      <th>F1 Score (Class 4)</th>\n",
              "      <td>1.000000</td>\n",
              "      <td>1.0</td>\n",
              "    </tr>\n",
              "  </tbody>\n",
              "</table>\n",
              "</div>"
            ],
            "text/plain": [
              "                     Training Set  Testing Set\n",
              "Accuracy                 0.999992          1.0\n",
              "Precision (Class 0)      1.000000          1.0\n",
              "Precision (Class 1)      0.999898          1.0\n",
              "Precision (Class 2)      1.000000          1.0\n",
              "Precision (Class 3)      1.000000          1.0\n",
              "Precision (Class 4)      1.000000          1.0\n",
              "Recall (Class 0)         1.000000          1.0\n",
              "Recall (Class 1)         1.000000          1.0\n",
              "Recall (Class 2)         0.999962          1.0\n",
              "Recall (Class 3)         1.000000          1.0\n",
              "Recall (Class 4)         1.000000          1.0\n",
              "F1 Score (Class 0)       1.000000          1.0\n",
              "F1 Score (Class 1)       0.999949          1.0\n",
              "F1 Score (Class 2)       0.999981          1.0\n",
              "F1 Score (Class 3)       1.000000          1.0\n",
              "F1 Score (Class 4)       1.000000          1.0"
            ]
          },
          "metadata": {
            "tags": []
          },
          "execution_count": 31
        }
      ]
    }
  ]
}