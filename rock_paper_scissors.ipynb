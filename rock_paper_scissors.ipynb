{
  "nbformat": 4,
  "nbformat_minor": 0,
  "metadata": {
    "colab": {
      "name": "rock_paper_scissors.ipynb",
      "provenance": [],
      "collapsed_sections": [],
      "authorship_tag": "ABX9TyP5gNrkG47u/Jg7tfKpd1t/",
      "include_colab_link": true
    },
    "kernelspec": {
      "name": "python3",
      "display_name": "Python 3"
    }
  },
  "cells": [
    {
      "cell_type": "markdown",
      "metadata": {
        "id": "view-in-github",
        "colab_type": "text"
      },
      "source": [
        "<a href=\"https://colab.research.google.com/github/rgajjala18/Launch-Work/blob/master/rock_paper_scissors.ipynb\" target=\"_parent\"><img src=\"https://colab.research.google.com/assets/colab-badge.svg\" alt=\"Open In Colab\"/></a>"
      ]
    },
    {
      "cell_type": "code",
      "metadata": {
        "id": "qp5ndzd0Aed_",
        "colab_type": "code",
        "outputId": "15ddaa1f-7293-4ee7-e9ea-5b1e4dfd426d",
        "colab": {
          "base_uri": "https://localhost:8080/",
          "height": 306
        }
      },
      "source": [
        "import time\n",
        "import random\n",
        "\n",
        "key = True\n",
        "opt = [\"rock\",\"paper\",\"scissors\"]\n",
        "while key:\n",
        "  print(\"Rock,\")\n",
        "  time.sleep(1)\n",
        "  print(\"Paper,\")\n",
        "  time.sleep(1)\n",
        "  print(\"Scissors...\")\n",
        "  time.sleep(1)\n",
        "  x = input(\"Enter Choice: \")\n",
        "  while (x.lower()!=\"rock\" and x.lower()!=\"paper\" and x.lower()!=\"scissors\"):\n",
        "    x = input(\"Invalid choice, please enter rock, paper, or scissors: \")\n",
        "  y = opt[random.randint(0,3)]\n",
        "  print(\"The computer chose \" + y)\n",
        "  time.sleep(1)\n",
        "  if (x==y):\n",
        "    print(\"It was a draw!\")\n",
        "  elif (x.lower()==\"rock\" and y==\"paper\"):\n",
        "    print(\"The computer won!\")\n",
        "  elif (x.lower()==\"rock\" and y==\"scissors\"):\n",
        "    print(\"You won!\")\n",
        "  elif (x.lower()==\"paper\" and y==\"scissors\"):\n",
        "    print(\"The computer won!\")\n",
        "  elif (x.lower()==\"paper\" and y==\"rock\"):\n",
        "    print(\"You won!\")\n",
        "  elif (x.lower()==\"scissors\" and y==\"rock\"):\n",
        "    print(\"The computer won!\")\n",
        "  elif (x.lower()==\"scissors\" and y==\"paper\"):\n",
        "    print(\"You won!\")\n",
        "  z = input(\"Play again? (y/n): \")\n",
        "  if (z.lower()==\"n\"):\n",
        "      key = False\n",
        "  print(\"\")\n",
        "\n"
      ],
      "execution_count": 0,
      "outputs": [
        {
          "output_type": "stream",
          "text": [
            "Rock,\n",
            "Paper,\n",
            "Scissors...\n",
            "Enter Choice: rock\n",
            "The computer chose scissors\n",
            "You won!\n",
            "Play again? (y/n): y\n",
            "\n",
            "Rock,\n",
            "Paper,\n",
            "Scissors...\n",
            "Enter Choice: scisso\n",
            "Invalid choice, please enter rock, paper, or scissors: scissors\n",
            "The computer chose rock\n",
            "The computer won!\n",
            "Play again? (y/n): n\n",
            "\n"
          ],
          "name": "stdout"
        }
      ]
    },
    {
      "cell_type": "code",
      "metadata": {
        "id": "UjPUy_lIBdvV",
        "colab_type": "code",
        "colab": {}
      },
      "source": [
        ""
      ],
      "execution_count": 0,
      "outputs": []
    }
  ]
}